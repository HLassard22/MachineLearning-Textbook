{
  "nbformat": 4,
  "nbformat_minor": 0,
  "metadata": {
    "colab": {
      "name": "Ragged_tensors.pynb",
      "provenance": [],
      "collapsed_sections": [],
      "authorship_tag": "ABX9TyN8kcd3sH+uUelFhrGCRN7a",
      "include_colab_link": true
    },
    "kernelspec": {
      "name": "python3",
      "display_name": "Python 3"
    }
  },
  "cells": [
    {
      "cell_type": "markdown",
      "metadata": {
        "id": "view-in-github",
        "colab_type": "text"
      },
      "source": [
        "<a href=\"https://colab.research.google.com/github/aloiswirth/handson-ml2/blob/master/12b_Ragged_tensors_addon_to_chapter12.ipynb\" target=\"_parent\"><img src=\"https://colab.research.google.com/assets/colab-badge.svg\" alt=\"Open In Colab\"/></a>"
      ]
    },
    {
      "cell_type": "markdown",
      "metadata": {
        "id": "IVgFIz2Sth4E",
        "colab_type": "text"
      },
      "source": [
        "##### Copyright 2018 The TensorFlow Authors."
      ]
    },
    {
      "cell_type": "code",
      "metadata": {
        "id": "VHcVbQFNtcYE",
        "colab_type": "code",
        "colab": {}
      },
      "source": [
        "#@title Licensed under the Apache License, Version 2.0 (the \"License\");\n",
        "# you may not use this file except in compliance with the License.\n",
        "# You may obtain a copy of the License at\n",
        "#\n",
        "# https://www.apache.org/licenses/LICENSE-2.0\n",
        "#\n",
        "# Unless required by applicable law or agreed to in writing, software\n",
        "# distributed under the License is distributed on an \"AS IS\" BASIS,\n",
        "# WITHOUT WARRANTIES OR CONDITIONS OF ANY KIND, either express or implied.\n",
        "# See the License for the specific language governing permissions and\n",
        "# limitations under the License."
      ],
      "execution_count": 1,
      "outputs": []
    },
    {
      "cell_type": "markdown",
      "metadata": {
        "id": "DxVIl9yStRQn",
        "colab_type": "text"
      },
      "source": [
        "# Ragged tensors\n",
        "\n",
        "<table class=\"tfo-notebook-buttons\" align=\"left\">\n",
        "  <td>\n",
        "    <a target=\"_blank\" href=\"https://www.tensorflow.org/guide/ragged_tensor\"><img src=\"https://www.tensorflow.org/images/tf_logo_32px.png\" />View on TensorFlow.org</a>\n",
        "  </td>\n",
        "  <td>\n",
        "    <a target=\"_blank\" href=\"https://colab.research.google.com/github/tensorflow/docs/blob/master/site/en/guide/ragged_tensor.ipynb\"><img src=\"https://www.tensorflow.org/images/colab_logo_32px.png\" />Run in Google Colab</a>\n",
        "  </td>\n",
        "  <td>\n",
        "    <a target=\"_blank\" href=\"https://github.com/tensorflow/docs/blob/master/site/en/guide/ragged_tensor.ipynb\"><img src=\"https://www.tensorflow.org/images/GitHub-Mark-32px.png\" />View source on GitHub</a>\n",
        "  </td>\n",
        "  <td>\n",
        "    <a href=\"https://storage.googleapis.com/tensorflow_docs/docs/site/en/guide/ragged_tensor.ipynb\"><img src=\"https://www.tensorflow.org/images/download_logo_32px.png\" />Download notebook</a>\n",
        "  </td>\n",
        "</table>"
      ]
    },
    {
      "cell_type": "markdown",
      "metadata": {
        "id": "C8htB7BftrPW",
        "colab_type": "text"
      },
      "source": [
        "## Setup\n"
      ]
    },
    {
      "cell_type": "code",
      "metadata": {
        "id": "WWKeM42Hfx5C",
        "colab_type": "code",
        "colab": {
          "base_uri": "https://localhost:8080/",
          "height": 70
        },
        "outputId": "75c1051e-4cab-43de-9633-b97f948ffe11"
      },
      "source": [
        "!pip install -q tf_nightly"
      ],
      "execution_count": 2,
      "outputs": [
        {
          "output_type": "stream",
          "text": [
            "\u001b[K     |████████████████████████████████| 322.9MB 43kB/s \n",
            "\u001b[K     |████████████████████████████████| 460kB 52.6MB/s \n",
            "\u001b[K     |████████████████████████████████| 3.0MB 44.9MB/s \n",
            "\u001b[?25h"
          ],
          "name": "stdout"
        }
      ]
    },
    {
      "cell_type": "code",
      "metadata": {
        "id": "z01JnaiXgC2c",
        "colab_type": "code",
        "colab": {}
      },
      "source": [
        "import math\n",
        "import tensorflow as tf"
      ],
      "execution_count": 3,
      "outputs": []
    },
    {
      "cell_type": "markdown",
      "metadata": {
        "id": "a7fG3jQquE8w",
        "colab_type": "text"
      },
      "source": [
        "## Overview\n",
        "\n",
        "Your data comes in many shapes; your tensors should too.\n",
        "*Ragged tensors* are the TensorFlow equivalent of nested variable-length\n",
        "lists. They make it easy to store and process data with non-uniform shapes,\n",
        "including:\n",
        "\n",
        "*   Variable-length features, such as the set of actors in a movie.\n",
        "*   Batches of variable-length sequential inputs, such as sentences or video\n",
        "    clips.\n",
        "*   Hierarchical inputs, such as text documents that are subdivided into\n",
        "    sections, paragraphs, sentences, and words.\n",
        "*   Individual fields in structured inputs, such as protocol buffers."
      ]
    },
    {
      "cell_type": "markdown",
      "metadata": {
        "id": "1m9g--aK9V5p",
        "colab_type": "text"
      },
      "source": [
        "### What you can do with a ragged tensor\n",
        "Ragged tensors are supported by more than a hundred TensorFlow operations, including math operations (such as tf.add and tf.reduce_mean), array operations (such as tf.concat and tf.tile), string manipulation ops (such as tf.substr), control flow operations (such as tf.while_loop and tf.map_fn), and many others:"
      ]
    },
    {
      "cell_type": "code",
      "metadata": {
        "id": "QJhmIFVVgI0o",
        "colab_type": "code",
        "colab": {}
      },
      "source": [
        "digits = tf.ragged.constant([[3, 1, 4, 1], [], [5, 9, 2], [6], []])\n",
        "words = tf.ragged.constant([[\"So\", \"long\"], [\"thanks\", \"for\", \"all\", \"the\", \"fish\"]])"
      ],
      "execution_count": 4,
      "outputs": []
    },
    {
      "cell_type": "markdown",
      "metadata": {
        "id": "TVKJH6v_9Q67",
        "colab_type": "text"
      },
      "source": [
        "There are also a number of methods and operations that are specific to ragged tensors, including factory methods, conversion methods, and value-mapping operations. For a list of supported ops, see the **`tf.ragged` package documentation**.\n",
        "\n",
        "Ragged tensors are supported by many TensorFlow APIs, including [Keras](https://www.tensorflow.org/guide/keras), [Datasets](https://www.tensorflow.org/guide/data), [tf.function](https://www.tensorflow.org/guide/function), [SavedModels](https://www.tensorflow.org/guide/saved_model), and [tf.Example](https://www.tensorflow.org/tutorials/load_data/tfrecord).  For more information, see the section on **TensorFlow APIs** below.\n",
        "\n",
        "As with normal tensors, you can use Python-style indexing to access specific slices of a ragged tensor. For more information, see the section on **Indexing** below."
      ]
    },
    {
      "cell_type": "code",
      "metadata": {
        "id": "dW2zPgqUhG6Y",
        "colab_type": "code",
        "colab": {
          "base_uri": "https://localhost:8080/",
          "height": 34
        },
        "outputId": "52bc7c9c-9229-42da-b3a4-48eb570fe0f2"
      },
      "source": [
        "digits"
      ],
      "execution_count": 5,
      "outputs": [
        {
          "output_type": "execute_result",
          "data": {
            "text/plain": [
              "<tf.RaggedTensor [[3, 1, 4, 1], [], [5, 9, 2], [6], []]>"
            ]
          },
          "metadata": {
            "tags": []
          },
          "execution_count": 5
        }
      ]
    },
    {
      "cell_type": "code",
      "metadata": {
        "id": "bzm3dXPhv7vs",
        "colab_type": "code",
        "colab": {
          "base_uri": "https://localhost:8080/",
          "height": 52
        },
        "outputId": "55b256d0-c6a9-4c51-fb87-5a13e66c21f2"
      },
      "source": [
        "print(digits[3])\n",
        "digits[0]"
      ],
      "execution_count": 6,
      "outputs": [
        {
          "output_type": "stream",
          "text": [
            "tf.Tensor([6], shape=(1,), dtype=int32)\n"
          ],
          "name": "stdout"
        },
        {
          "output_type": "execute_result",
          "data": {
            "text/plain": [
              "<tf.Tensor: shape=(4,), dtype=int32, numpy=array([3, 1, 4, 1], dtype=int32)>"
            ]
          },
          "metadata": {
            "tags": []
          },
          "execution_count": 6
        }
      ]
    },
    {
      "cell_type": "code",
      "metadata": {
        "id": "MGATI3YwjD4S",
        "colab_type": "code",
        "colab": {
          "base_uri": "https://localhost:8080/",
          "height": 34
        },
        "outputId": "29371162-230c-4e64-e548-cbe8aafc846d"
      },
      "source": [
        "print(digits[0])"
      ],
      "execution_count": 7,
      "outputs": [
        {
          "output_type": "stream",
          "text": [
            "tf.Tensor([3 1 4 1], shape=(4,), dtype=int32)\n"
          ],
          "name": "stdout"
        }
      ]
    },
    {
      "cell_type": "code",
      "metadata": {
        "id": "5PM6-68pjIQX",
        "colab_type": "code",
        "colab": {
          "base_uri": "https://localhost:8080/",
          "height": 34
        },
        "outputId": "1684c75f-140f-497d-bd36-04b1b9b20b9e"
      },
      "source": [
        "print(digits[:, :2])"
      ],
      "execution_count": 8,
      "outputs": [
        {
          "output_type": "stream",
          "text": [
            "<tf.RaggedTensor [[3, 1], [], [5, 9], [6], []]>\n"
          ],
          "name": "stdout"
        }
      ]
    },
    {
      "cell_type": "code",
      "metadata": {
        "id": "mm9dC1TGjpmm",
        "colab_type": "code",
        "colab": {
          "base_uri": "https://localhost:8080/",
          "height": 34
        },
        "outputId": "315ac709-88d6-488a-f2ad-1302a3da01ee"
      },
      "source": [
        "print(digits[:, -2:])"
      ],
      "execution_count": 9,
      "outputs": [
        {
          "output_type": "stream",
          "text": [
            "<tf.RaggedTensor [[4, 1], [], [9, 2], [6], []]>\n"
          ],
          "name": "stdout"
        }
      ]
    },
    {
      "cell_type": "code",
      "metadata": {
        "id": "v93PQVgpjwvz",
        "colab_type": "code",
        "colab": {
          "base_uri": "https://localhost:8080/",
          "height": 34
        },
        "outputId": "8796926f-cefe-4430-b3f0-00c9c762a154"
      },
      "source": [
        "# Adding 3 to all numbers in the tensor:\n",
        "print(digits + 3) "
      ],
      "execution_count": 10,
      "outputs": [
        {
          "output_type": "stream",
          "text": [
            "<tf.RaggedTensor [[6, 4, 7, 4], [], [8, 12, 5], [9], []]>\n"
          ],
          "name": "stdout"
        }
      ]
    },
    {
      "cell_type": "code",
      "metadata": {
        "id": "46FBRo9Lgtx9",
        "colab_type": "code",
        "colab": {
          "base_uri": "https://localhost:8080/",
          "height": 34
        },
        "outputId": "1d9eaa36-1ea5-4547-efb2-1eecf6880593"
      },
      "source": [
        "print(tf.add(digits, 3))\n",
        "# this adds 3 to all values"
      ],
      "execution_count": 11,
      "outputs": [
        {
          "output_type": "stream",
          "text": [
            "<tf.RaggedTensor [[6, 4, 7, 4], [], [8, 12, 5], [9], []]>\n"
          ],
          "name": "stdout"
        }
      ]
    },
    {
      "cell_type": "code",
      "metadata": {
        "id": "2P3ZKD41gvMk",
        "colab_type": "code",
        "colab": {
          "base_uri": "https://localhost:8080/",
          "height": 34
        },
        "outputId": "e41e2b82-1aaf-4681-9f99-6a5d7be12ce3"
      },
      "source": [
        "# Now calculate the average\n",
        "print(tf.reduce_mean(digits, axis=1))"
      ],
      "execution_count": 12,
      "outputs": [
        {
          "output_type": "stream",
          "text": [
            "tf.Tensor([2.25              nan 5.33333333 6.                nan], shape=(5,), dtype=float64)\n"
          ],
          "name": "stdout"
        }
      ]
    },
    {
      "cell_type": "code",
      "metadata": {
        "id": "AoCwTbypgv4O",
        "colab_type": "code",
        "colab": {
          "base_uri": "https://localhost:8080/",
          "height": 34
        },
        "outputId": "664f9668-584d-4ad3-9688-7a9adb68f3b1"
      },
      "source": [
        "# Conatenation of two Ragged Tensors:\n",
        "print(tf.concat([digits, [[5, 3]]], axis=0))"
      ],
      "execution_count": 13,
      "outputs": [
        {
          "output_type": "stream",
          "text": [
            "<tf.RaggedTensor [[3, 1, 4, 1], [], [5, 9, 2], [6], [], [5, 3]]>\n"
          ],
          "name": "stdout"
        }
      ]
    },
    {
      "cell_type": "code",
      "metadata": {
        "id": "9rpETAAcgyus",
        "colab_type": "code",
        "colab": {
          "base_uri": "https://localhost:8080/",
          "height": 90
        },
        "outputId": "006651d2-50b3-4736-8b16-89d07356fcd9"
      },
      "source": [
        "# Duplicate each component of a ragged tensor:\n",
        "print(tf.tile(digits, [4, 1]))\n",
        "print(tf.tile(digits, [1, 3]))\n",
        "print(tf.tile(digits, [2, 3]))"
      ],
      "execution_count": 14,
      "outputs": [
        {
          "output_type": "stream",
          "text": [
            "<tf.RaggedTensor [[3, 1, 4, 1], [], [5, 9, 2], [6], [], [3, 1, 4, 1], [], [5, 9, 2], [6], [], [3, 1, 4, 1], [], [5, 9, 2], [6], [], [3, 1, 4, 1], [], [5, 9, 2], [6], []]>\n",
            "<tf.RaggedTensor [[3, 1, 4, 1, 3, 1, 4, 1, 3, 1, 4, 1], [], [5, 9, 2, 5, 9, 2, 5, 9, 2], [6, 6, 6], []]>\n",
            "<tf.RaggedTensor [[3, 1, 4, 1, 3, 1, 4, 1, 3, 1, 4, 1], [], [5, 9, 2, 5, 9, 2, 5, 9, 2], [6, 6, 6], [], [3, 1, 4, 1, 3, 1, 4, 1, 3, 1, 4, 1], [], [5, 9, 2, 5, 9, 2, 5, 9, 2], [6, 6, 6], []]>\n"
          ],
          "name": "stdout"
        }
      ]
    },
    {
      "cell_type": "code",
      "metadata": {
        "id": "e2TWBJK2g_xx",
        "colab_type": "code",
        "colab": {
          "base_uri": "https://localhost:8080/",
          "height": 34
        },
        "outputId": "20657944-2258-4c7f-fcbf-0850fe9e3e13"
      },
      "source": [
        "print(tf.map_fn(tf.math.square, digits))\n",
        "# print(tf.map_fn(tf.math.exp(3.0) , digits))  ## doesn't work"
      ],
      "execution_count": 15,
      "outputs": [
        {
          "output_type": "stream",
          "text": [
            "<tf.RaggedTensor [[9, 1, 16, 1], [], [25, 81, 4], [36], []]>\n"
          ],
          "name": "stdout"
        }
      ]
    },
    {
      "cell_type": "code",
      "metadata": {
        "id": "ZV6kFmi5hKxA",
        "colab_type": "code",
        "colab": {
          "base_uri": "https://localhost:8080/",
          "height": 34
        },
        "outputId": "4d6d157d-d999-42fc-a3d8-6964b6e81ea2"
      },
      "source": [
        "words"
      ],
      "execution_count": 16,
      "outputs": [
        {
          "output_type": "execute_result",
          "data": {
            "text/plain": [
              "<tf.RaggedTensor [[b'So', b'long'], [b'thanks', b'for', b'all', b'the', b'fish']]>"
            ]
          },
          "metadata": {
            "tags": []
          },
          "execution_count": 16
        }
      ]
    },
    {
      "cell_type": "code",
      "metadata": {
        "id": "kA4BlLWuwfjX",
        "colab_type": "code",
        "colab": {
          "base_uri": "https://localhost:8080/",
          "height": 52
        },
        "outputId": "830a1862-5240-4ba5-8f95-bc19d2a8b15e"
      },
      "source": [
        "print(words[0])\n",
        "words[1]"
      ],
      "execution_count": 17,
      "outputs": [
        {
          "output_type": "stream",
          "text": [
            "tf.Tensor([b'So' b'long'], shape=(2,), dtype=string)\n"
          ],
          "name": "stdout"
        },
        {
          "output_type": "execute_result",
          "data": {
            "text/plain": [
              "<tf.Tensor: shape=(5,), dtype=string, numpy=array([b'thanks', b'for', b'all', b'the', b'fish'], dtype=object)>"
            ]
          },
          "metadata": {
            "tags": []
          },
          "execution_count": 17
        }
      ]
    },
    {
      "cell_type": "code",
      "metadata": {
        "id": "iuEHrtsrgwV3",
        "colab_type": "code",
        "colab": {
          "base_uri": "https://localhost:8080/",
          "height": 52
        },
        "outputId": "2ba4bf09-5351-4c56-c51a-78c7b9379833"
      },
      "source": [
        "# substring operations on ragged string tensors\n",
        "print(tf.strings.substr(words, 0, 2))\n",
        "print(tf.strings.substr(words, 2, 4))"
      ],
      "execution_count": 18,
      "outputs": [
        {
          "output_type": "stream",
          "text": [
            "<tf.RaggedTensor [[b'So', b'lo'], [b'th', b'fo', b'al', b'th', b'fi']]>\n",
            "<tf.RaggedTensor [[b'', b'ng'], [b'anks', b'r', b'l', b'e', b'sh']]>\n"
          ],
          "name": "stdout"
        }
      ]
    },
    {
      "cell_type": "markdown",
      "metadata": {
        "id": "QD0apWTlmLfM",
        "colab_type": "text"
      },
      "source": [
        "Adding of ragged tensors (using +) can only be executed if the both tensors are of some type in all components. \n",
        "\n",
        "Excample [6] + [8, 9] does not work. See next example failing in the second line.\n",
        "\n",
        "Error: Unable to broadcast: dimension size mismatch in dimension'\n",
        "1\n",
        "b'lengths='\n",
        "4, 0, 3, 2, 0\n",
        "b'dim_size='\n",
        "4, 0, 3, 1, 0\n"
      ]
    },
    {
      "cell_type": "code",
      "metadata": {
        "id": "FSlRdcUliP2M",
        "colab_type": "code",
        "colab": {
          "base_uri": "https://localhost:8080/",
          "height": 34
        },
        "outputId": "eb20ccd5-60fa-4489-8b7d-5c362c302a15"
      },
      "source": [
        "print(digits + tf.ragged.constant([[1, 2, 3, 4], [], [5, 6, 7], [8], []]))"
      ],
      "execution_count": 19,
      "outputs": [
        {
          "output_type": "stream",
          "text": [
            "<tf.RaggedTensor [[4, 3, 7, 5], [], [10, 15, 9], [14], []]>\n"
          ],
          "name": "stdout"
        }
      ]
    },
    {
      "cell_type": "code",
      "metadata": {
        "id": "YS4X6h0vkHPF",
        "colab_type": "code",
        "colab": {
          "base_uri": "https://localhost:8080/",
          "height": 34
        },
        "outputId": "94e9e27f-08c7-439b-8e74-0c0c11d8fc0d"
      },
      "source": [
        "try:\n",
        "  digits + tf.ragged.constant([[1, 2, 3, 4], [], [5, 6, 7], [8, 9], []])\n",
        "except ValueError as exception:\n",
        "  print(exception)\n",
        "# except InvalidArgumentError as exception2:\n",
        "#   print(exception2)\n",
        "except:\n",
        "  print(\"something else went wrong\")"
      ],
      "execution_count": 20,
      "outputs": [
        {
          "output_type": "stream",
          "text": [
            "something else went wrong\n"
          ],
          "name": "stdout"
        }
      ]
    },
    {
      "cell_type": "markdown",
      "metadata": {
        "id": "Id2qeQKKnfCo",
        "colab_type": "text"
      },
      "source": [
        "If you need to perform an elementwise transformation to the values of a RaggedTensor, you can use tf.ragged.map_flat_values, which takes a function plus one or more arguments, and applies the function to transform the RaggedTensor's values."
      ]
    },
    {
      "cell_type": "code",
      "metadata": {
        "id": "8gUEFhGXks7H",
        "colab_type": "code",
        "colab": {
          "base_uri": "https://localhost:8080/",
          "height": 34
        },
        "outputId": "dd961db1-2608-443d-b4e9-212947f2ccf8"
      },
      "source": [
        "times_two_plus_one = lambda x: x * 2 + 1\n",
        "print(tf.ragged.map_flat_values(times_two_plus_one, digits))"
      ],
      "execution_count": 21,
      "outputs": [
        {
          "output_type": "stream",
          "text": [
            "<tf.RaggedTensor [[7, 3, 9, 3], [], [11, 19, 5], [13], []]>\n"
          ],
          "name": "stdout"
        }
      ]
    },
    {
      "cell_type": "code",
      "metadata": {
        "id": "llGamB8w4bi0",
        "colab_type": "code",
        "colab": {
          "base_uri": "https://localhost:8080/",
          "height": 34
        },
        "outputId": "fa513a9c-cba9-4723-eddf-377dd20544a8"
      },
      "source": [
        "exponent_three_plus_one = lambda x: x ** 3 + 1\n",
        "print(tf.ragged.map_flat_values(exponent_three_plus_one, digits))"
      ],
      "execution_count": 22,
      "outputs": [
        {
          "output_type": "stream",
          "text": [
            "<tf.RaggedTensor [[28, 2, 65, 2], [], [126, 730, 9], [217], []]>\n"
          ],
          "name": "stdout"
        }
      ]
    },
    {
      "cell_type": "markdown",
      "metadata": {
        "id": "tzmQqSMnogPG",
        "colab_type": "text"
      },
      "source": [
        "Conversion of ragged tensor to list of numpy nd array:"
      ]
    },
    {
      "cell_type": "code",
      "metadata": {
        "id": "c84WdH-joeoe",
        "colab_type": "code",
        "colab": {
          "base_uri": "https://localhost:8080/",
          "height": 122
        },
        "outputId": "2779e225-09bf-4293-b456-16196e3f6df2"
      },
      "source": [
        "my_converted_list = digits.to_list()\n",
        "print(my_converted_list)\n",
        "for item in my_converted_list:\n",
        "  print(item)"
      ],
      "execution_count": 23,
      "outputs": [
        {
          "output_type": "stream",
          "text": [
            "[[3, 1, 4, 1], [], [5, 9, 2], [6], []]\n",
            "[3, 1, 4, 1]\n",
            "[]\n",
            "[5, 9, 2]\n",
            "[6]\n",
            "[]\n"
          ],
          "name": "stdout"
        }
      ]
    },
    {
      "cell_type": "code",
      "metadata": {
        "id": "u0MS2wiSpdUv",
        "colab_type": "code",
        "colab": {
          "base_uri": "https://localhost:8080/",
          "height": 105
        },
        "outputId": "45803c72-69ae-4f89-8561-d94281cd06db"
      },
      "source": [
        "np_converted_tensors = digits.numpy()\n",
        "for my_array in np_converted_tensors:\n",
        "  print(my_array)"
      ],
      "execution_count": 24,
      "outputs": [
        {
          "output_type": "stream",
          "text": [
            "[3 1 4 1]\n",
            "[]\n",
            "[5 9 2]\n",
            "[6]\n",
            "[]\n"
          ],
          "name": "stdout"
        }
      ]
    },
    {
      "cell_type": "markdown",
      "metadata": {
        "id": "Zofww-Ak86uv",
        "colab_type": "text"
      },
      "source": [
        "### Constructing a ragged tensor\n",
        "The simplest way to construct a ragged tensor is using `tf.ragged.constant`, which builds the `RaggedTensor` corresponding to a given nested Python `list` or numpy `array`:"
      ]
    },
    {
      "cell_type": "code",
      "metadata": {
        "id": "OEdG2Vm78JuE",
        "colab_type": "code",
        "colab": {
          "base_uri": "https://localhost:8080/",
          "height": 70
        },
        "outputId": "46af0f31-8b12-4108-94a6-365763df010d"
      },
      "source": [
        "sentences = tf.ragged.constant([\n",
        "    [\"Let's\", \"build\", \"some\", \"ragged\", \"tensors\", \"!\"],\n",
        "    [\"We\", \"can\", \"use\", \"tf.ragged.constant\", \".\"]])\n",
        "print(sentences)\n",
        "for i in sentences:\n",
        "  print(i)"
      ],
      "execution_count": 25,
      "outputs": [
        {
          "output_type": "stream",
          "text": [
            "<tf.RaggedTensor [[b\"Let's\", b'build', b'some', b'ragged', b'tensors', b'!'], [b'We', b'can', b'use', b'tf.ragged.constant', b'.']]>\n",
            "tf.Tensor([b\"Let's\" b'build' b'some' b'ragged' b'tensors' b'!'], shape=(6,), dtype=string)\n",
            "tf.Tensor([b'We' b'can' b'use' b'tf.ragged.constant' b'.'], shape=(5,), dtype=string)\n"
          ],
          "name": "stdout"
        }
      ]
    },
    {
      "cell_type": "code",
      "metadata": {
        "id": "NQenCNCx_8gP",
        "colab_type": "code",
        "colab": {
          "base_uri": "https://localhost:8080/",
          "height": 52
        },
        "outputId": "8c6e9080-dfa4-4b8c-9458-40bc48854f7a"
      },
      "source": [
        "list_sentences = sentences.to_list()\n",
        "list_sentences"
      ],
      "execution_count": 26,
      "outputs": [
        {
          "output_type": "execute_result",
          "data": {
            "text/plain": [
              "[[b\"Let's\", b'build', b'some', b'ragged', b'tensors', b'!'],\n",
              " [b'We', b'can', b'use', b'tf.ragged.constant', b'.']]"
            ]
          },
          "metadata": {
            "tags": []
          },
          "execution_count": 26
        }
      ]
    },
    {
      "cell_type": "code",
      "metadata": {
        "id": "tvMWkUMhDU0z",
        "colab_type": "code",
        "colab": {
          "base_uri": "https://localhost:8080/",
          "height": 34
        },
        "outputId": "764640c5-68fa-455a-9bef-9aa3a684e13b"
      },
      "source": [
        "paragraphs = tf.ragged.constant([\n",
        "    [['I', 'have', 'a', 'cat'], ['His', 'name', 'is', 'Mat']],\n",
        "    [['Do', 'you', 'want', 'to', 'come', 'visit'], [\"I'm\", 'free', 'tomorrow']],\n",
        "])\n",
        "print(paragraphs)"
      ],
      "execution_count": 27,
      "outputs": [
        {
          "output_type": "stream",
          "text": [
            "<tf.RaggedTensor [[[b'I', b'have', b'a', b'cat'], [b'His', b'name', b'is', b'Mat']], [[b'Do', b'you', b'want', b'to', b'come', b'visit'], [b\"I'm\", b'free', b'tomorrow']]]>\n"
          ],
          "name": "stdout"
        }
      ]
    },
    {
      "cell_type": "code",
      "metadata": {
        "id": "QksJPStgDe1h",
        "colab_type": "code",
        "colab": {
          "base_uri": "https://localhost:8080/",
          "height": 70
        },
        "outputId": "dd082b2f-c6dc-46be-96e1-b93ea00a7146"
      },
      "source": [
        "list_paragraphs = paragraphs.to_list()\n",
        "list_paragraphs"
      ],
      "execution_count": 28,
      "outputs": [
        {
          "output_type": "execute_result",
          "data": {
            "text/plain": [
              "[[[b'I', b'have', b'a', b'cat'], [b'His', b'name', b'is', b'Mat']],\n",
              " [[b'Do', b'you', b'want', b'to', b'come', b'visit'],\n",
              "  [b\"I'm\", b'free', b'tomorrow']]]"
            ]
          },
          "metadata": {
            "tags": []
          },
          "execution_count": 28
        }
      ]
    },
    {
      "cell_type": "markdown",
      "metadata": {
        "id": "nyvOTnHuM_-V",
        "colab_type": "text"
      },
      "source": [
        "#### Alternative Representations of Ragged Tensors\n",
        "Ragged tensors can also be constructed by pairing flat *values* tensors with\n",
        "*row-partitioning* tensors indicating how those values should be divided into\n",
        "rows, using factory classmethods such as \n",
        "* `tf.RaggedTensor.from_value_rowids`,\n",
        "* `tf.RaggedTensor.from_row_lengths`, and\n",
        "* `tf.RaggedTensor.from_row_splits`.\n",
        "\n",
        "##### 1.) `tf.RaggedTensor.from_value_rowids`\n",
        "If you know which row each value belongs in, then you can build a `RaggedTensor` using a `value_rowids` row-partitioning tensor:\n",
        "\n",
        "![value_rowids](https://www.tensorflow.org/images/ragged_tensors/value_rowids.png)"
      ]
    },
    {
      "cell_type": "code",
      "metadata": {
        "id": "ANEB5tf0Drd3",
        "colab_type": "code",
        "colab": {
          "base_uri": "https://localhost:8080/",
          "height": 34
        },
        "outputId": "d399ec7b-ab19-402d-b116-9ebf889d351e"
      },
      "source": [
        "print(tf.RaggedTensor.from_value_rowids(\n",
        "    values=[3, 1, 4, 1, 5, 9, 2],\n",
        "    value_rowids=[0, 0, 0, 0, 2, 2, 3]))"
      ],
      "execution_count": 29,
      "outputs": [
        {
          "output_type": "stream",
          "text": [
            "<tf.RaggedTensor [[3, 1, 4, 1], [], [5, 9], [2]]>\n"
          ],
          "name": "stdout"
        }
      ]
    },
    {
      "cell_type": "markdown",
      "metadata": {
        "id": "R_T-SSAMItJN",
        "colab_type": "text"
      },
      "source": [
        "##### 2.) `tf.RaggedTensor.from_row_lengths`\n",
        "\n",
        "If you know how long each row is, then you can use a `row_lengths` row-partitioning tensor:\n",
        "\n",
        "![row_lengths](https://www.tensorflow.org/images/ragged_tensors/row_lengths.png)"
      ]
    },
    {
      "cell_type": "code",
      "metadata": {
        "id": "e70RefraIxU8",
        "colab_type": "code",
        "colab": {
          "base_uri": "https://localhost:8080/",
          "height": 34
        },
        "outputId": "1f9fa676-1ad8-4ede-d57f-0b4a22209493"
      },
      "source": [
        "print(tf.RaggedTensor.from_row_lengths(\n",
        "    values=[3, 1, 4, 1, 5, 9, 2],\n",
        "    row_lengths=[4, 0, 2, 1]))"
      ],
      "execution_count": 30,
      "outputs": [
        {
          "output_type": "stream",
          "text": [
            "<tf.RaggedTensor [[3, 1, 4, 1], [], [5, 9], [2]]>\n"
          ],
          "name": "stdout"
        }
      ]
    },
    {
      "cell_type": "markdown",
      "metadata": {
        "id": "nYwVrSojJBvx",
        "colab_type": "text"
      },
      "source": [
        "##### 3.) `tf.RaggedTensor.from_row_splits`\n",
        "\n",
        "If you know the index where each row starts and ends, then you can use a `row_splits` row-partitioning tensor:\n",
        "\n",
        "![row_splits](https://www.tensorflow.org/images/ragged_tensors/row_splits.png)"
      ]
    },
    {
      "cell_type": "code",
      "metadata": {
        "id": "3TyifpfnJDiv",
        "colab_type": "code",
        "colab": {
          "base_uri": "https://localhost:8080/",
          "height": 34
        },
        "outputId": "2ad278b2-c01f-494a-ece7-b01daf393d70"
      },
      "source": [
        "print(tf.RaggedTensor.from_row_splits(\n",
        "    values=[3, 1, 4, 1, 5, 9, 2],\n",
        "    row_splits=[0, 4, 4, 6, 7, 7]))"
      ],
      "execution_count": 31,
      "outputs": [
        {
          "output_type": "stream",
          "text": [
            "<tf.RaggedTensor [[3, 1, 4, 1], [], [5, 9], [2], []]>\n"
          ],
          "name": "stdout"
        }
      ]
    },
    {
      "cell_type": "markdown",
      "metadata": {
        "id": "Oc6fAwTUJtfo",
        "colab_type": "text"
      },
      "source": [
        "See the `tf.RaggedTensor` class documentation for a full list of factory methods.\n",
        "\n",
        "Note: By default, these factory methods add assertions that the row partition tensor is well-formed and consistent with the number of values.  The `validate=False` parameter can be used to skip these checks if you can guarantee that the inputs are well-formed and consistent."
      ]
    },
    {
      "cell_type": "markdown",
      "metadata": {
        "id": "r6AQzlT_J8Xv",
        "colab_type": "text"
      },
      "source": [
        "### What you can store in a ragged tensor\n",
        "\n",
        "As with normal `Tensor`s, the values in a `RaggedTensor` must all have the same\n",
        "type; and the values must all be at the same nesting depth (the *rank* of the\n",
        "tensor):"
      ]
    },
    {
      "cell_type": "code",
      "metadata": {
        "id": "FJjtV28lJynf",
        "colab_type": "code",
        "colab": {
          "base_uri": "https://localhost:8080/",
          "height": 34
        },
        "outputId": "68ad797c-7089-48ce-a281-c7194d25100d"
      },
      "source": [
        "print(tf.ragged.constant([[\"Hi\"], [\"How\", \"are\", \"you\"]]))  # ok: type=string, rank=2"
      ],
      "execution_count": 32,
      "outputs": [
        {
          "output_type": "stream",
          "text": [
            "<tf.RaggedTensor [[b'Hi'], [b'How', b'are', b'you']]>\n"
          ],
          "name": "stdout"
        }
      ]
    },
    {
      "cell_type": "code",
      "metadata": {
        "id": "36WCPHB_JqmC",
        "colab_type": "code",
        "colab": {
          "base_uri": "https://localhost:8080/",
          "height": 34
        },
        "outputId": "c2fd9650-6ccf-4d05-f8d9-365d23033cea"
      },
      "source": [
        "print(tf.ragged.constant([[[1, 2], [3]], [[4, 5]]]))        # ok: type=int32, rank=3"
      ],
      "execution_count": 33,
      "outputs": [
        {
          "output_type": "stream",
          "text": [
            "<tf.RaggedTensor [[[1, 2], [3]], [[4, 5]]]>\n"
          ],
          "name": "stdout"
        }
      ]
    },
    {
      "cell_type": "code",
      "metadata": {
        "id": "c63_l33kJH9F",
        "colab_type": "code",
        "colab": {
          "base_uri": "https://localhost:8080/",
          "height": 34
        },
        "outputId": "347a4a22-700b-4141-ebe6-1bc2ad5e26d4"
      },
      "source": [
        "try:\n",
        "  tf.ragged.constant([[\"one\", \"two\"], [3, 4]])              # bad: multiple types\n",
        "except ValueError as exception:\n",
        "  print(exception)"
      ],
      "execution_count": 34,
      "outputs": [
        {
          "output_type": "stream",
          "text": [
            "Can't convert Python sequence with mixed types to Tensor.\n"
          ],
          "name": "stdout"
        }
      ]
    },
    {
      "cell_type": "code",
      "metadata": {
        "id": "ubb4nk_0LjXU",
        "colab_type": "code",
        "colab": {
          "base_uri": "https://localhost:8080/",
          "height": 34
        },
        "outputId": "515d2411-de0d-4f8c-dd81-ab44db6f37d5"
      },
      "source": [
        "try:\n",
        "  tf.ragged.constant([\"A\", [\"B\", \"C\"]])                     # bad: multiple nesting depths\n",
        "except ValueError as exception:\n",
        "  print(exception)"
      ],
      "execution_count": 35,
      "outputs": [
        {
          "output_type": "stream",
          "text": [
            "all scalar values must have the same nesting depth\n"
          ],
          "name": "stdout"
        }
      ]
    },
    {
      "cell_type": "markdown",
      "metadata": {
        "id": "qkwvmu7rNK_G",
        "colab_type": "text"
      },
      "source": [
        "## Example use case\n",
        "\n",
        "The following example demonstrates how `RaggedTensor`s can be used to construct\n",
        "and combine unigram and bigram embeddings for a batch of variable-length\n",
        "queries, using special markers for the beginning and end of each sentence.\n",
        "For more details on the ops used in this example, see the `tf.ragged` package documentation."
      ]
    },
    {
      "cell_type": "code",
      "metadata": {
        "id": "C7yp2lyhN50n",
        "colab_type": "code",
        "colab": {
          "base_uri": "https://localhost:8080/",
          "height": 34
        },
        "outputId": "3797790e-8694-4b06-c2fb-4ebc890dc63d"
      },
      "source": [
        "queries = tf.ragged.constant([['Who', 'is', 'today', 'Dan', 'Smith'],\n",
        "                              ['Pause'],\n",
        "                              ['Will', 'it', 'rain', 'later', 'today']])\n",
        "queries"
      ],
      "execution_count": 36,
      "outputs": [
        {
          "output_type": "execute_result",
          "data": {
            "text/plain": [
              "<tf.RaggedTensor [[b'Who', b'is', b'today', b'Dan', b'Smith'], [b'Pause'], [b'Will', b'it', b'rain', b'later', b'today']]>"
            ]
          },
          "metadata": {
            "tags": []
          },
          "execution_count": 36
        }
      ]
    },
    {
      "cell_type": "code",
      "metadata": {
        "id": "16SCIuvSkqtg",
        "colab_type": "code",
        "colab": {
          "base_uri": "https://localhost:8080/",
          "height": 34
        },
        "outputId": "98104b60-0537-4e61-d0f9-03d7fc2d7657"
      },
      "source": [
        "queries.shape"
      ],
      "execution_count": 37,
      "outputs": [
        {
          "output_type": "execute_result",
          "data": {
            "text/plain": [
              "TensorShape([3, None])"
            ]
          },
          "metadata": {
            "tags": []
          },
          "execution_count": 37
        }
      ]
    },
    {
      "cell_type": "code",
      "metadata": {
        "id": "_oS-9Boqk7-T",
        "colab_type": "code",
        "colab": {
          "base_uri": "https://localhost:8080/",
          "height": 34
        },
        "outputId": "a6d2c5d8-c50a-4c7d-9841-7149f93a38e0"
      },
      "source": [
        "# just to see how this works\n",
        "len(queries.to_list())"
      ],
      "execution_count": 38,
      "outputs": [
        {
          "output_type": "execute_result",
          "data": {
            "text/plain": [
              "3"
            ]
          },
          "metadata": {
            "tags": []
          },
          "execution_count": 38
        }
      ]
    },
    {
      "cell_type": "code",
      "metadata": {
        "id": "-DJW9nJENMdR",
        "colab_type": "code",
        "colab": {
          "base_uri": "https://localhost:8080/",
          "height": 194
        },
        "outputId": "33cff222-b03b-4ed9-f1f4-4aabc0941bb3"
      },
      "source": [
        "# Create an embedding table.\n",
        "num_buckets = 1024\n",
        "embedding_size = 4\n",
        "embedding_table = tf.Variable(\n",
        "    tf.random.truncated_normal([num_buckets, embedding_size],\n",
        "                       stddev=1.0 / math.sqrt(embedding_size)))\n",
        "\n",
        "print(embedding_table)\n",
        "'''\n",
        "array([[ 0.7967023 ,  0.80937356, -0.933402  , -0.76543057],\n",
        "       [-0.11630829,  0.14486092, -0.69844437, -0.6212817 ],\n",
        "'''"
      ],
      "execution_count": 39,
      "outputs": [
        {
          "output_type": "stream",
          "text": [
            "<tf.Variable 'Variable:0' shape=(1024, 4) dtype=float32, numpy=\n",
            "array([[-0.47374943, -0.9380833 , -0.9195592 ,  0.46555164],\n",
            "       [ 0.11055991,  0.2858898 , -0.23720637,  0.01782364],\n",
            "       [ 0.19101039, -0.12692028, -0.2644193 ,  0.37979347],\n",
            "       ...,\n",
            "       [-0.2769897 ,  0.6601249 , -0.2920366 , -0.63613415],\n",
            "       [-0.3016212 , -0.45107308,  0.59042484, -0.6676856 ],\n",
            "       [-0.5972573 ,  0.359846  ,  0.01489842, -0.05979504]],\n",
            "      dtype=float32)>\n"
          ],
          "name": "stdout"
        },
        {
          "output_type": "execute_result",
          "data": {
            "application/vnd.google.colaboratory.intrinsic": {
              "type": "string"
            },
            "text/plain": [
              "'\\narray([[ 0.7967023 ,  0.80937356, -0.933402  , -0.76543057],\\n       [-0.11630829,  0.14486092, -0.69844437, -0.6212817 ],\\n'"
            ]
          },
          "metadata": {
            "tags": []
          },
          "execution_count": 39
        }
      ]
    },
    {
      "cell_type": "code",
      "metadata": {
        "id": "f2vmO963F62u",
        "colab_type": "code",
        "colab": {
          "base_uri": "https://localhost:8080/",
          "height": 34
        },
        "outputId": "ae6a5fd3-82db-4153-92e4-cb1a7c1a4896"
      },
      "source": [
        "math.sqrt(embedding_size)"
      ],
      "execution_count": 42,
      "outputs": [
        {
          "output_type": "execute_result",
          "data": {
            "text/plain": [
              "2.0"
            ]
          },
          "metadata": {
            "tags": []
          },
          "execution_count": 42
        }
      ]
    },
    {
      "cell_type": "code",
      "metadata": {
        "id": "B9L1ZpfrGP1o",
        "colab_type": "code",
        "colab": {}
      },
      "source": [
        "for i in range(1024):\n",
        "  for j in range(4):\n",
        "    print(embedding_table[i , j])"
      ],
      "execution_count": null,
      "outputs": []
    },
    {
      "cell_type": "code",
      "metadata": {
        "id": "lYJLIwm_OI02",
        "colab_type": "code",
        "colab": {
          "base_uri": "https://localhost:8080/",
          "height": 72
        },
        "outputId": "be0401ca-76f4-415c-c502-f206c4e2ca5e"
      },
      "source": [
        "# Look up the embedding for each word.\n",
        "# word_buckets contains integers reqresenting the word strings\n",
        "word_buckets = tf.strings.to_hash_bucket_fast(queries, num_buckets)\n",
        "# word_embeddings contain a tensor representation of word bucket within the embedding table\n",
        "word_embeddings = tf.nn.embedding_lookup(embedding_table, word_buckets)     # ①\n",
        "print(word_buckets)\n",
        "print(word_embeddings)"
      ],
      "execution_count": 44,
      "outputs": [
        {
          "output_type": "stream",
          "text": [
            "<tf.RaggedTensor [[633, 768, 547, 237, 309], [28], [847, 998, 635, 20, 547]]>\n",
            "<tf.RaggedTensor [[[0.10146832466125488, -0.5626548528671265, -0.7980397939682007, 0.10221785306930542], [0.24285681545734406, 0.1617680937051773, 0.255990207195282, 0.14474603533744812], [-0.3706987798213959, -0.840350866317749, 0.3574962019920349, 0.06445838510990143], [-0.1280132234096527, -0.07512976974248886, 0.24972090125083923, 0.42566919326782227], [0.14002758264541626, 0.11549173295497894, -0.3013416826725006, -0.5129379630088806]], [[-0.16432859003543854, 0.047676727175712585, 0.48892122507095337, 0.38809067010879517]], [[0.3819596469402313, -0.5106041431427002, -0.5726322531700134, 0.2682870328426361], [0.29955390095710754, -0.21033115684986115, -0.17073477804660797, 0.19750995934009552], [0.34772780537605286, 0.12917667627334595, -0.38308560848236084, -0.6275220513343811], [0.7598094344139099, -0.14650900661945343, -0.8007323145866394, 0.09730249643325806], [-0.3706987798213959, -0.840350866317749, 0.3574962019920349, 0.06445838510990143]]]>\n"
          ],
          "name": "stdout"
        }
      ]
    },
    {
      "cell_type": "code",
      "metadata": {
        "id": "f8cNau3ZOMwD",
        "colab_type": "code",
        "colab": {
          "base_uri": "https://localhost:8080/",
          "height": 87
        },
        "outputId": "ec0c8660-c3df-47c5-e603-1d74bfa42bd3"
      },
      "source": [
        "# Add markers to the beginning and end of each sentence.\n",
        "marker = tf.fill([queries.nrows(), 1], '#')\n",
        "marker"
      ],
      "execution_count": 45,
      "outputs": [
        {
          "output_type": "execute_result",
          "data": {
            "text/plain": [
              "<tf.Tensor: shape=(3, 1), dtype=string, numpy=\n",
              "array([[b'#'],\n",
              "       [b'#'],\n",
              "       [b'#']], dtype=object)>"
            ]
          },
          "metadata": {
            "tags": []
          },
          "execution_count": 45
        }
      ]
    },
    {
      "cell_type": "code",
      "metadata": {
        "id": "B-CD3oldn-JM",
        "colab_type": "code",
        "colab": {
          "base_uri": "https://localhost:8080/",
          "height": 34
        },
        "outputId": "9cd5aba6-28a3-440e-8330-4ba4e6d247d4"
      },
      "source": [
        "padded = tf.concat([marker, queries, marker], axis=1)                       # ②\n",
        "print(padded)"
      ],
      "execution_count": 46,
      "outputs": [
        {
          "output_type": "stream",
          "text": [
            "<tf.RaggedTensor [[b'#', b'Who', b'is', b'today', b'Dan', b'Smith', b'#'], [b'#', b'Pause', b'#'], [b'#', b'Will', b'it', b'rain', b'later', b'today', b'#']]>\n"
          ],
          "name": "stdout"
        }
      ]
    },
    {
      "cell_type": "code",
      "metadata": {
        "id": "AngMhGcDOPri",
        "colab_type": "code",
        "colab": {
          "base_uri": "https://localhost:8080/",
          "height": 54
        },
        "outputId": "5313960b-bf20-44cd-d719-3e9481b5c4c9"
      },
      "source": [
        "# Build word bigrams & look up embeddings.\n",
        "bigrams = tf.strings.join([padded[:, :-1], padded[:, 1:]], separator='+')   # ③\n",
        "print(bigrams)"
      ],
      "execution_count": 47,
      "outputs": [
        {
          "output_type": "stream",
          "text": [
            "<tf.RaggedTensor [[b'#+Who', b'Who+is', b'is+today', b'today+Dan', b'Dan+Smith', b'Smith+#'], [b'#+Pause', b'Pause+#'], [b'#+Will', b'Will+it', b'it+rain', b'rain+later', b'later+today', b'today+#']]>\n"
          ],
          "name": "stdout"
        }
      ]
    },
    {
      "cell_type": "code",
      "metadata": {
        "id": "TYBicVyoOTCI",
        "colab_type": "code",
        "colab": {
          "base_uri": "https://localhost:8080/",
          "height": 34
        },
        "outputId": "d0f141ae-611d-4e9e-a85f-3d88b01213c2"
      },
      "source": [
        "bigram_buckets = tf.strings.to_hash_bucket_fast(bigrams, num_buckets)\n",
        "print(bigram_buckets)\n"
      ],
      "execution_count": 48,
      "outputs": [
        {
          "output_type": "stream",
          "text": [
            "<tf.RaggedTensor [[939, 196, 460, 372, 281, 176], [597, 723], [853, 293, 853, 704, 749, 372]]>\n"
          ],
          "name": "stdout"
        }
      ]
    },
    {
      "cell_type": "code",
      "metadata": {
        "id": "Xk2xQvOp1Fkq",
        "colab_type": "code",
        "colab": {
          "base_uri": "https://localhost:8080/",
          "height": 72
        },
        "outputId": "66c1e501-5577-4008-c12b-ac6757b20653"
      },
      "source": [
        "bigram_embeddings = tf.nn.embedding_lookup(embedding_table, bigram_buckets) # ④\n",
        "print(bigram_embeddings)\n",
        "print(bigram_embeddings.shape)"
      ],
      "execution_count": 51,
      "outputs": [
        {
          "output_type": "stream",
          "text": [
            "<tf.RaggedTensor [[[0.5531015992164612, 0.06233026832342148, -0.38662803173065186, -0.5691091418266296], [-0.8586159944534302, -0.5492018461227417, -0.06206214427947998, -0.1813337504863739], [-0.061614081263542175, -0.20091888308525085, 0.41288983821868896, -0.6746004819869995], [0.3288642168045044, -0.12639276683330536, -0.32625681161880493, -0.02704225666821003], [-0.9494671821594238, -0.1673433482646942, 0.12439165264368057, 0.7177324891090393], [-0.08185794204473495, -0.6300257444381714, -0.23338942229747772, 0.3234575390815735]], [[-0.5965119004249573, 0.9658960700035095, 0.5366710424423218, 0.7602482438087463], [-0.2830057740211487, -0.13205184042453766, -0.40244248509407043, 0.08063250780105591]], [[0.2646404206752777, -0.10149259865283966, 0.16721482574939728, -0.5372437834739685], [-0.13156656920909882, 0.0776573121547699, 0.07330163568258286, -0.05435384437441826], [0.2646404206752777, -0.10149259865283966, 0.16721482574939728, -0.5372437834739685], [0.19541554152965546, -0.44903936982154846, -0.9238172769546509, -0.3207278847694397], [-0.13067644834518433, 0.2860625088214874, -0.2987249791622162, -0.7332044839859009], [0.3288642168045044, -0.12639276683330536, -0.32625681161880493, -0.02704225666821003]]]>\n",
            "(3, None, 4)\n"
          ],
          "name": "stdout"
        }
      ]
    },
    {
      "cell_type": "markdown",
      "metadata": {
        "id": "T_UNMLHY5CBe",
        "colab_type": "text"
      },
      "source": [
        "The above print shows 3, None, 4. 3 is the number of sentences, 'None' is indicating that the number of words per sentance varies, and thus the dimension is ragged. 4 indicates the embedding size. "
      ]
    },
    {
      "cell_type": "code",
      "metadata": {
        "id": "ioVleRvQOX3W",
        "colab_type": "code",
        "colab": {
          "base_uri": "https://localhost:8080/",
          "height": 72
        },
        "outputId": "0d30ad85-4a94-4f7a-80e7-5c425d60398a"
      },
      "source": [
        "# Find the average embedding for each sentence\n",
        "all_embeddings = tf.concat([word_embeddings, bigram_embeddings], axis=1)    # ⑤\n",
        "print(all_embeddings.shape)\n",
        "all_embeddings"
      ],
      "execution_count": 53,
      "outputs": [
        {
          "output_type": "stream",
          "text": [
            "(3, None, 4)\n"
          ],
          "name": "stdout"
        },
        {
          "output_type": "execute_result",
          "data": {
            "text/plain": [
              "<tf.RaggedTensor [[[0.10146832466125488, -0.5626548528671265, -0.7980397939682007, 0.10221785306930542], [0.24285681545734406, 0.1617680937051773, 0.255990207195282, 0.14474603533744812], [-0.3706987798213959, -0.840350866317749, 0.3574962019920349, 0.06445838510990143], [-0.1280132234096527, -0.07512976974248886, 0.24972090125083923, 0.42566919326782227], [0.14002758264541626, 0.11549173295497894, -0.3013416826725006, -0.5129379630088806], [0.5531015992164612, 0.06233026832342148, -0.38662803173065186, -0.5691091418266296], [-0.8586159944534302, -0.5492018461227417, -0.06206214427947998, -0.1813337504863739], [-0.061614081263542175, -0.20091888308525085, 0.41288983821868896, -0.6746004819869995], [0.3288642168045044, -0.12639276683330536, -0.32625681161880493, -0.02704225666821003], [-0.9494671821594238, -0.1673433482646942, 0.12439165264368057, 0.7177324891090393], [-0.08185794204473495, -0.6300257444381714, -0.23338942229747772, 0.3234575390815735]], [[-0.16432859003543854, 0.047676727175712585, 0.48892122507095337, 0.38809067010879517], [-0.5965119004249573, 0.9658960700035095, 0.5366710424423218, 0.7602482438087463], [-0.2830057740211487, -0.13205184042453766, -0.40244248509407043, 0.08063250780105591]], [[0.3819596469402313, -0.5106041431427002, -0.5726322531700134, 0.2682870328426361], [0.29955390095710754, -0.21033115684986115, -0.17073477804660797, 0.19750995934009552], [0.34772780537605286, 0.12917667627334595, -0.38308560848236084, -0.6275220513343811], [0.7598094344139099, -0.14650900661945343, -0.8007323145866394, 0.09730249643325806], [-0.3706987798213959, -0.840350866317749, 0.3574962019920349, 0.06445838510990143], [0.2646404206752777, -0.10149259865283966, 0.16721482574939728, -0.5372437834739685], [-0.13156656920909882, 0.0776573121547699, 0.07330163568258286, -0.05435384437441826], [0.2646404206752777, -0.10149259865283966, 0.16721482574939728, -0.5372437834739685], [0.19541554152965546, -0.44903936982154846, -0.9238172769546509, -0.3207278847694397], [-0.13067644834518433, 0.2860625088214874, -0.2987249791622162, -0.7332044839859009], [0.3288642168045044, -0.12639276683330536, -0.32625681161880493, -0.02704225666821003]]]>"
            ]
          },
          "metadata": {
            "tags": []
          },
          "execution_count": 53
        }
      ]
    },
    {
      "cell_type": "code",
      "metadata": {
        "id": "LkMP3leSObGg",
        "colab_type": "code",
        "colab": {
          "base_uri": "https://localhost:8080/",
          "height": 87
        },
        "outputId": "766fd345-a362-4067-a937-fee47a7d92f6"
      },
      "source": [
        "avg_embedding = tf.reduce_mean(all_embeddings, axis=1)                      # ⑥\n",
        "print(avg_embedding)"
      ],
      "execution_count": 54,
      "outputs": [
        {
          "output_type": "stream",
          "text": [
            "tf.Tensor(\n",
            "[[-0.09854078 -0.2556753  -0.06429356 -0.01697655]\n",
            " [-0.34794876  0.29384032  0.20771663  0.40965715]\n",
            " [ 0.20087905 -0.18121055 -0.2464324  -0.2008891 ]], shape=(3, 4), dtype=float32)\n"
          ],
          "name": "stdout"
        }
      ]
    },
    {
      "cell_type": "markdown",
      "metadata": {
        "id": "KOy9r22jNchi",
        "colab_type": "text"
      },
      "source": [
        "![ragged_example](https://www.tensorflow.org/images/ragged_tensors/ragged_example.png)"
      ]
    },
    {
      "cell_type": "markdown",
      "metadata": {
        "id": "Ln9KxO0J28NR",
        "colab_type": "text"
      },
      "source": [
        "## Ragged and uniform dimensions\n",
        "\n",
        "A ***ragged dimension*** is a dimension whose slices may have different lengths. For example, the\n",
        "inner (column) dimension of `rt=[[3, 1, 4, 1], [], [5, 9, 2], [6], []]` is\n",
        "ragged, since the column slices (`rt[0, :]`, ..., `rt[4, :]`) have different\n",
        "lengths. Dimensions whose slices all have the same length are called *uniform\n",
        "dimensions*.\n",
        "\n",
        "The outermost dimension of a ragged tensor is always uniform, since it consists\n",
        "of a single slice (and so there is no possibility for differing slice\n",
        "lengths).  The remaining dimensions may be either ragged or uniform. For\n",
        "example, we might store the word embeddings for\n",
        "each word in a batch of sentences using a ragged tensor with shape\n",
        "`[num_sentences, (num_words), embedding_size]`, where the parentheses around\n",
        "`(num_words)` indicate that the dimension is ragged.\n",
        "\n",
        "![sent_word_embed](https://www.tensorflow.org/images/ragged_tensors/sent_word_embed.png)\n",
        "\n",
        "Ragged tensors may have multiple ragged dimensions. For example, we could store\n",
        "a batch of structured text documents using a tensor with shape `[num_documents,\n",
        "(num_paragraphs), (num_sentences), (num_words)]` (where again parentheses are\n",
        "used to indicate ragged dimensions).\n",
        "\n",
        "As with `tf.Tensor`, the ***rank*** of a ragged tensor is its total number of dimensions (including both ragged and uniform dimensions).\n",
        "A ***potentially ragged tensor*** is a value that might be\n",
        "either a `tf.Tensor` or a `tf.RaggedTensor`.\n",
        "\n",
        "When describing the shape of a RaggedTensor, ragged dimensions are conventionally indicated by\n",
        "enclosing them in parentheses. For example, as we saw above, the shape of a 3-D\n",
        "RaggedTensor that stores word embeddings for each word in a batch of sentences\n",
        "can be written as `[num_sentences, (num_words), embedding_size]`.\n",
        "\n",
        "The `RaggedTensor.shape` attribute returns a `tf.TensorShape` for a\n",
        "ragged tensor, where ragged dimensions have size `None`:"
      ]
    },
    {
      "cell_type": "code",
      "metadata": {
        "id": "1496wu9b3U2B",
        "colab_type": "code",
        "colab": {
          "base_uri": "https://localhost:8080/",
          "height": 34
        },
        "outputId": "3db1d03a-0213-483e-8982-de3a263540dd"
      },
      "source": [
        "tf.ragged.constant([[\"Hi\"], [\"How\", \"are\", \"you\"]]).shape"
      ],
      "execution_count": 55,
      "outputs": [
        {
          "output_type": "execute_result",
          "data": {
            "text/plain": [
              "TensorShape([2, None])"
            ]
          },
          "metadata": {
            "tags": []
          },
          "execution_count": 55
        }
      ]
    },
    {
      "cell_type": "markdown",
      "metadata": {
        "id": "OvShAaMH6BRr",
        "colab_type": "text"
      },
      "source": [
        "The method `tf.RaggedTensor.bounding_shape` can be used to find a tight\n",
        "bounding shape for a given `RaggedTensor`:"
      ]
    },
    {
      "cell_type": "code",
      "metadata": {
        "id": "jjDkZL986Kip",
        "colab_type": "code",
        "colab": {
          "base_uri": "https://localhost:8080/",
          "height": 34
        },
        "outputId": "d0c16f3d-20f6-4ba6-fe4e-912cc288b2f1"
      },
      "source": [
        "print(tf.ragged.constant([[\"Hi\"], [\"How\", \"are\", \"you\"]]).bounding_shape())"
      ],
      "execution_count": 56,
      "outputs": [
        {
          "output_type": "stream",
          "text": [
            "tf.Tensor([2 3], shape=(2,), dtype=int64)\n"
          ],
          "name": "stdout"
        }
      ]
    },
    {
      "cell_type": "markdown",
      "metadata": {
        "id": "_4pz5xFb61K5",
        "colab_type": "text"
      },
      "source": [
        "## Ragged vs. sparse\n",
        "\n",
        "A ragged tensor should *not* be thought of as a type of sparse tensor.  In particular, sparse tensors are *efficient encodings for tf.Tensor*, that model the same data in a compact format; but ragged tensor is an *extension to tf.Tensor*, that models an expanded class of data.  This difference is crucial when defining operations:\n",
        "\n",
        "* Applying an op to a sparse or dense tensor should always give the same result.\n",
        "* Applying an op to a ragged or sparse tensor may give different results.\n",
        "\n",
        "As an illustrative example, consider how array operations such as `concat`,\n",
        "`stack`, and `tile` are defined for ragged vs. sparse tensors. Concatenating\n",
        "ragged tensors joins each row to form a single row with the combined length:\n",
        "\n",
        "![ragged_concat](https://www.tensorflow.org/images/ragged_tensors/ragged_concat.png)\n"
      ]
    },
    {
      "cell_type": "code",
      "metadata": {
        "colab_type": "code",
        "id": "ush7IGUWLXIn",
        "colab": {
          "base_uri": "https://localhost:8080/",
          "height": 34
        },
        "outputId": "5810598d-ce1d-4c90-e537-fda0d32c26fa"
      },
      "source": [
        "ragged_x = tf.ragged.constant([[\"John\"], [\"a\", \"big\", \"dog\"], [\"my\", \"cat\"]])\n",
        "ragged_y = tf.ragged.constant([[\"fell\", \"asleep\"], [\"barked\"], [\"is\", \"fuzzy\"]])\n",
        "print(tf.concat([ragged_x, ragged_y], axis=1))"
      ],
      "execution_count": 57,
      "outputs": [
        {
          "output_type": "stream",
          "text": [
            "<tf.RaggedTensor [[b'John', b'fell', b'asleep'], [b'a', b'big', b'dog', b'barked'], [b'my', b'cat', b'is', b'fuzzy']]>\n"
          ],
          "name": "stdout"
        }
      ]
    },
    {
      "cell_type": "markdown",
      "metadata": {
        "id": "5zic5EN8iuUh",
        "colab_type": "text"
      },
      "source": [
        "But concatenating sparse tensors is equivalent to concatenating the corresponding dense tensors,\n",
        "as illustrated by the following example (where Ø indicates missing values):\n",
        "\n",
        "![sparse_concat](https://www.tensorflow.org/images/ragged_tensors/sparse_concat.png)"
      ]
    },
    {
      "cell_type": "code",
      "metadata": {
        "id": "RzzwaU6-60vC",
        "colab_type": "code",
        "colab": {
          "base_uri": "https://localhost:8080/",
          "height": 140
        },
        "outputId": "e38a3c04-8e69-4dc6-f557-d225d15b796d"
      },
      "source": [
        "sparse_x = ragged_x.to_sparse()\n",
        "print(sparse_x)"
      ],
      "execution_count": 60,
      "outputs": [
        {
          "output_type": "stream",
          "text": [
            "SparseTensor(indices=tf.Tensor(\n",
            "[[0 0]\n",
            " [1 0]\n",
            " [1 1]\n",
            " [1 2]\n",
            " [2 0]\n",
            " [2 1]], shape=(6, 2), dtype=int64), values=tf.Tensor([b'John' b'a' b'big' b'dog' b'my' b'cat'], shape=(6,), dtype=string), dense_shape=tf.Tensor([3 3], shape=(2,), dtype=int64))\n"
          ],
          "name": "stdout"
        }
      ]
    },
    {
      "cell_type": "code",
      "metadata": {
        "id": "0csSIQeC7Zj0",
        "colab_type": "code",
        "colab": {
          "base_uri": "https://localhost:8080/",
          "height": 122
        },
        "outputId": "2952faef-d206-4d12-cad6-f9d9cefa96ff"
      },
      "source": [
        "sparse_y = ragged_y.to_sparse()\n",
        "print(sparse_y)"
      ],
      "execution_count": 63,
      "outputs": [
        {
          "output_type": "stream",
          "text": [
            "SparseTensor(indices=tf.Tensor(\n",
            "[[0 0]\n",
            " [0 1]\n",
            " [1 0]\n",
            " [2 0]\n",
            " [2 1]], shape=(5, 2), dtype=int64), values=tf.Tensor([b'fell' b'asleep' b'barked' b'is' b'fuzzy'], shape=(5,), dtype=string), dense_shape=tf.Tensor([3 2], shape=(2,), dtype=int64))\n"
          ],
          "name": "stdout"
        }
      ]
    },
    {
      "cell_type": "code",
      "metadata": {
        "id": "YE_pNMrx7crH",
        "colab_type": "code",
        "colab": {
          "base_uri": "https://localhost:8080/",
          "height": 87
        },
        "outputId": "ea3511d6-ac9e-4b2a-bd65-a169e3811647"
      },
      "source": [
        "sparse_result = tf.sparse.concat(sp_inputs=[sparse_x, sparse_y], axis=1)\n",
        "print(tf.sparse.to_dense(sparse_result, ''))"
      ],
      "execution_count": 64,
      "outputs": [
        {
          "output_type": "stream",
          "text": [
            "tf.Tensor(\n",
            "[[b'John' b'' b'' b'fell' b'asleep']\n",
            " [b'a' b'big' b'dog' b'barked' b'']\n",
            " [b'my' b'cat' b'' b'is' b'fuzzy']], shape=(3, 5), dtype=string)\n"
          ],
          "name": "stdout"
        }
      ]
    },
    {
      "cell_type": "markdown",
      "metadata": {
        "id": "6xZfwGZe8uUD",
        "colab_type": "text"
      },
      "source": [
        "For another example of why this distinction is important, consider the\n",
        "definition of “the mean value of each row” for an op such as `tf.reduce_mean`.\n",
        "For a ragged tensor, the mean value for a row is the sum of the\n",
        "row’s values divided by the row’s width.\n",
        "But for a sparse tensor, the mean value for a row is the sum of the\n",
        "row’s values divided by the sparse tensor’s overall width (which is\n",
        "greater than or equal to the width of the longest row)."
      ]
    }
  ]
}